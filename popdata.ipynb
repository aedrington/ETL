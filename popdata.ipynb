{
 "cells": [
  {
   "cell_type": "code",
   "execution_count": 8,
   "metadata": {},
   "outputs": [],
   "source": [
    "import os \n",
    "from config import key\n",
    "import pandas as pd\n",
    "import requests\n"
   ]
  },
  {
   "cell_type": "code",
   "execution_count": 10,
   "metadata": {},
   "outputs": [],
   "source": [
    "columns = ['Population', 'State']\n",
    "popData = pd.DataFrame(columns=columns)"
   ]
  },
  {
   "cell_type": "code",
   "execution_count": 7,
   "metadata": {},
   "outputs": [
    {
     "data": {
      "text/plain": [
       "[['POP', 'GEONAME', 'state'],\n",
       " ['4874747', 'Alabama', '01'],\n",
       " ['739795', 'Alaska', '02'],\n",
       " ['7016270', 'Arizona', '04'],\n",
       " ['3004279', 'Arkansas', '05'],\n",
       " ['39536653', 'California', '06'],\n",
       " ['5607154', 'Colorado', '08'],\n",
       " ['3588184', 'Connecticut', '09'],\n",
       " ['961939', 'Delaware', '10'],\n",
       " ['693972', 'District of Columbia', '11'],\n",
       " ['20984400', 'Florida', '12'],\n",
       " ['10429379', 'Georgia', '13'],\n",
       " ['1427538', 'Hawaii', '15'],\n",
       " ['1716943', 'Idaho', '16'],\n",
       " ['12802023', 'Illinois', '17'],\n",
       " ['6666818', 'Indiana', '18'],\n",
       " ['3145711', 'Iowa', '19'],\n",
       " ['2913123', 'Kansas', '20'],\n",
       " ['4454189', 'Kentucky', '21'],\n",
       " ['4684333', 'Louisiana', '22'],\n",
       " ['1335907', 'Maine', '23'],\n",
       " ['6052177', 'Maryland', '24'],\n",
       " ['6859819', 'Massachusetts', '25'],\n",
       " ['9962311', 'Michigan', '26'],\n",
       " ['5576606', 'Minnesota', '27'],\n",
       " ['2984100', 'Mississippi', '28'],\n",
       " ['6113532', 'Missouri', '29'],\n",
       " ['1050493', 'Montana', '30'],\n",
       " ['1920076', 'Nebraska', '31'],\n",
       " ['2998039', 'Nevada', '32'],\n",
       " ['1342795', 'New Hampshire', '33'],\n",
       " ['9005644', 'New Jersey', '34'],\n",
       " ['2088070', 'New Mexico', '35'],\n",
       " ['19849399', 'New York', '36'],\n",
       " ['10273419', 'North Carolina', '37'],\n",
       " ['755393', 'North Dakota', '38'],\n",
       " ['11658609', 'Ohio', '39'],\n",
       " ['3930864', 'Oklahoma', '40'],\n",
       " ['4142776', 'Oregon', '41'],\n",
       " ['12805537', 'Pennsylvania', '42'],\n",
       " ['1059639', 'Rhode Island', '44'],\n",
       " ['5024369', 'South Carolina', '45'],\n",
       " ['869666', 'South Dakota', '46'],\n",
       " ['6715984', 'Tennessee', '47'],\n",
       " ['28304596', 'Texas', '48'],\n",
       " ['3101833', 'Utah', '49'],\n",
       " ['623657', 'Vermont', '50'],\n",
       " ['8470020', 'Virginia', '51'],\n",
       " ['7405743', 'Washington', '53'],\n",
       " ['1815857', 'West Virginia', '54'],\n",
       " ['5795483', 'Wisconsin', '55'],\n",
       " ['579315', 'Wyoming', '56'],\n",
       " ['3337177', 'Puerto Rico', '72']]"
      ]
     },
     "execution_count": 7,
     "metadata": {},
     "output_type": "execute_result"
    }
   ],
   "source": [
    "baseURL = \"https://api.census.gov/data/2017/pep/population?get=\"\n",
    "targetURL = (baseURL + \"POP,GEONAME&for=state:*&key=\" + key) \n",
    "resp = requests.get(targetURL).json()\n",
    "resp"
   ]
  },
  {
   "cell_type": "code",
   "execution_count": null,
   "metadata": {},
   "outputs": [],
   "source": []
  }
 ],
 "metadata": {
  "kernelspec": {
   "display_name": "Python 3",
   "language": "python",
   "name": "python3"
  },
  "language_info": {
   "codemirror_mode": {
    "name": "ipython",
    "version": 3
   },
   "file_extension": ".py",
   "mimetype": "text/x-python",
   "name": "python",
   "nbconvert_exporter": "python",
   "pygments_lexer": "ipython3",
   "version": "3.6.5"
  }
 },
 "nbformat": 4,
 "nbformat_minor": 2
}
